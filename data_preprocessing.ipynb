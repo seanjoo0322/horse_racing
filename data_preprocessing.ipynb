{
 "cells": [
  {
   "cell_type": "code",
   "execution_count": 1,
   "metadata": {},
   "outputs": [],
   "source": [
    "import pandas as pd"
   ]
  },
  {
   "cell_type": "code",
   "execution_count": 12,
   "metadata": {},
   "outputs": [
    {
     "data": {
      "text/plain": [
       "0        2019-01-05\n",
       "1        2019-01-05\n",
       "2        2019-01-05\n",
       "3        2019-01-05\n",
       "4        2019-01-05\n",
       "            ...    \n",
       "55000    2024-04-28\n",
       "55001    2024-04-28\n",
       "55002    2024-04-28\n",
       "55003    2024-04-28\n",
       "55004    2024-04-28\n",
       "Name: rcDate, Length: 55005, dtype: object"
      ]
     },
     "execution_count": 12,
     "metadata": {},
     "output_type": "execute_result"
    }
   ],
   "source": [
    "df = pd.read_csv('한국경기정보_final.csv', low_memory=False)\n",
    "df['rcDate']"
   ]
  },
  {
   "cell_type": "code",
   "execution_count": 34,
   "metadata": {},
   "outputs": [],
   "source": [
    "df = pd.read_csv('한국경기정보_final.csv', low_memory=False)\n",
    "df = df.drop(columns = [\"Unnamed: 0\"])\n",
    "df[df.columns] = df[df.columns].astype(str)\n",
    "df['wgDf']= df['wgDf'].fillna(0)\n",
    "df = df.drop(columns = ['rankRise','meet','ordBigo','index', 'ilsu','rcDay'])\n",
    "columns_to_convert = ['humidity', 'buga1', 'buga2', 'buga3', 'chaksun1', 'chaksun2', 'chaksun3', 'chaksun4', 'chaksun5',\n",
    "                     'rcTime', 'seG1fAccTime', 'seG3fAccTime', 'seS1fAccTime', 'se_1cAccTime', 'se_2cAccTime', \n",
    "                     'se_3cAccTime', 'se_4cAccTime', 'sjG1fOrd', 'sjG3fOrd', 'sjS1fOrd', 'sj_1cOrd', 'sj_2cOrd', \n",
    "                     'sj_3cOrd', 'sj_4cOrd', 'age', 'winOdds', 'ord', 'wgHr', 'wgDf', 'chulNo', 'hrNo', 'plcOdds', \n",
    "                     'rating', 'wgBudam', 'wgJk']\n",
    "\n",
    "df[columns_to_convert] = df[columns_to_convert].apply(pd.to_numeric, errors='coerce')\n",
    "df_dtypes = df.dtypes.to_dict()\n"
   ]
  },
  {
   "cell_type": "code",
   "execution_count": 35,
   "metadata": {},
   "outputs": [
    {
     "name": "stdout",
     "output_type": "stream",
     "text": [
      "2019-01-05 00:00:00\n",
      "2024-04-28 00:00:00\n"
     ]
    }
   ],
   "source": [
    "#Convert dates to datetime\n",
    "df['rcDate'] = pd.to_datetime(df['rcDate'])\n",
    "df = df.sort_values([\"rcDate\", \"rcNo\"])\n",
    "print(min(df['rcDate']))\n",
    "print(max(df['rcDate']))"
   ]
  },
  {
   "cell_type": "markdown",
   "metadata": {},
   "source": [
    "# Data Modification"
   ]
  },
  {
   "cell_type": "markdown",
   "metadata": {},
   "source": [
    "## diffUnit: \n",
    "Converted from 착차 데이터 string ⇒ float through approximating distance"
   ]
  },
  {
   "cell_type": "code",
   "execution_count": 36,
   "metadata": {},
   "outputs": [],
   "source": [
    "df['diffUnit'] = df['diffUnit'].astype(str)\n",
    "replacements = {\n",
    "    '목': 0.32,\n",
    "    '머리': 0.13,\n",
    "    '코': 0.05,\n",
    "    '동순위': 0.0,\n",
    "    '착변': -0.25,\n",
    "    '1¼': 1.25,\n",
    "    '1¼+1': 2.25,\n",
    "    '1½': 1.5,\n",
    "    '1¾': 1.75,\n",
    "    '¾': 0.75,\n",
    "    '2+½': 2.5,\n",
    "    '2½+1':3.5,\n",
    "    '1+½':1.5,\n",
    "    '2+½': 2.5,\n",
    "    '2+½': 2.5,\n",
    "    '½': 0.5,\n",
    "    '1+½': 1.5,\n",
    "    '-': 0,\n",
    "}\n",
    "df['diffUnit'] = df['diffUnit'].replace(replacements, regex=True)\n"
   ]
  },
  {
   "cell_type": "markdown",
   "metadata": {},
   "source": [
    "## prizeCond\n",
    "\n",
    "Since Rating is written in structure of \"R0/1 ~ R(N)\" \n",
    "- Two column created\n",
    " 1. noob: Whether rating of 0 can participate or not\n",
    " 2. maxRt: ceiling rating to participate+"
   ]
  },
  {
   "cell_type": "code",
   "execution_count": 37,
   "metadata": {},
   "outputs": [
    {
     "data": {
      "text/plain": [
       "array(['R0~0', 'R1~50', 'R1~80', 'R1~65', 'R1~35', 'R1~140', 'R1~115',\n",
       "       'R1~110', 'R1~120', 'R1~100', 'R0~140', 'R1~95', 'R1~105', 'R0~80',\n",
       "       'R0~90', 'R0~65', 'R0~50', 'R1~90'], dtype=object)"
      ]
     },
     "execution_count": 37,
     "metadata": {},
     "output_type": "execute_result"
    }
   ],
   "source": [
    "df['prizeCond'].unique()"
   ]
  },
  {
   "cell_type": "code",
   "execution_count": 38,
   "metadata": {},
   "outputs": [
    {
     "name": "stdout",
     "output_type": "stream",
     "text": [
      "['R0~0' 'R0~140']\n",
      "['육성심사합격 조기출전마 특별(특)' '코리아 스프린트(GⅠ)' '코리아컵(GⅠ)' '문화일보배(L)'\n",
      " 'Rookie Stakes@서울' '제주특별자치도지사후원특별@서울' '농협중앙회장배(L)' '스포츠서울배(L)'\n",
      " '코리아 스프린트(G1)' '코리아컵(G1)']\n",
      "['국6등급' '국OPEN' '혼OPEN']\n"
     ]
    }
   ],
   "source": [
    "df['prizeCond'] = df['prizeCond'].astype(str)\n",
    "print(df[(df['rating']==0.0)]['prizeCond'].unique())\n",
    "print(df[(df['prizeCond']=='R0~140') & (df['rating']==0.0)]['rcName'].unique())\n",
    "print(df[(df['rating']==0.0)]['rank'].unique())"
   ]
  },
  {
   "cell_type": "code",
   "execution_count": 39,
   "metadata": {},
   "outputs": [
    {
     "data": {
      "text/html": [
       "<div>\n",
       "<style scoped>\n",
       "    .dataframe tbody tr th:only-of-type {\n",
       "        vertical-align: middle;\n",
       "    }\n",
       "\n",
       "    .dataframe tbody tr th {\n",
       "        vertical-align: top;\n",
       "    }\n",
       "\n",
       "    .dataframe thead th {\n",
       "        text-align: right;\n",
       "    }\n",
       "</style>\n",
       "<table border=\"1\" class=\"dataframe\">\n",
       "  <thead>\n",
       "    <tr style=\"text-align: right;\">\n",
       "      <th></th>\n",
       "      <th>noob</th>\n",
       "      <th>maxRt</th>\n",
       "    </tr>\n",
       "  </thead>\n",
       "  <tbody>\n",
       "    <tr>\n",
       "      <th>0</th>\n",
       "      <td>1</td>\n",
       "      <td>0</td>\n",
       "    </tr>\n",
       "    <tr>\n",
       "      <th>1</th>\n",
       "      <td>1</td>\n",
       "      <td>0</td>\n",
       "    </tr>\n",
       "    <tr>\n",
       "      <th>2</th>\n",
       "      <td>1</td>\n",
       "      <td>0</td>\n",
       "    </tr>\n",
       "    <tr>\n",
       "      <th>3</th>\n",
       "      <td>1</td>\n",
       "      <td>0</td>\n",
       "    </tr>\n",
       "    <tr>\n",
       "      <th>4</th>\n",
       "      <td>1</td>\n",
       "      <td>0</td>\n",
       "    </tr>\n",
       "    <tr>\n",
       "      <th>...</th>\n",
       "      <td>...</td>\n",
       "      <td>...</td>\n",
       "    </tr>\n",
       "    <tr>\n",
       "      <th>55000</th>\n",
       "      <td>0</td>\n",
       "      <td>50</td>\n",
       "    </tr>\n",
       "    <tr>\n",
       "      <th>55001</th>\n",
       "      <td>0</td>\n",
       "      <td>50</td>\n",
       "    </tr>\n",
       "    <tr>\n",
       "      <th>55002</th>\n",
       "      <td>0</td>\n",
       "      <td>50</td>\n",
       "    </tr>\n",
       "    <tr>\n",
       "      <th>55003</th>\n",
       "      <td>0</td>\n",
       "      <td>50</td>\n",
       "    </tr>\n",
       "    <tr>\n",
       "      <th>55004</th>\n",
       "      <td>0</td>\n",
       "      <td>50</td>\n",
       "    </tr>\n",
       "  </tbody>\n",
       "</table>\n",
       "<p>55005 rows × 2 columns</p>\n",
       "</div>"
      ],
      "text/plain": [
       "       noob  maxRt\n",
       "0         1      0\n",
       "1         1      0\n",
       "2         1      0\n",
       "3         1      0\n",
       "4         1      0\n",
       "...     ...    ...\n",
       "55000     0     50\n",
       "55001     0     50\n",
       "55002     0     50\n",
       "55003     0     50\n",
       "55004     0     50\n",
       "\n",
       "[55005 rows x 2 columns]"
      ]
     },
     "execution_count": 39,
     "metadata": {},
     "output_type": "execute_result"
    }
   ],
   "source": [
    "df[['prefix', 'maxRt']] = df['prizeCond'].str.split('~', expand=True)\n",
    "df['noob'] = df['prefix'].apply(lambda x: 1 if x == 'R0' else 0)\n",
    "df['maxRt'] = df['maxRt'].astype(int)\n",
    "\n",
    "# Drop the 'prizeCond' and 'prefix' columns\n",
    "df = df.drop(columns=['prizeCond', 'prefix'])\n",
    "df[['noob','maxRt']]"
   ]
  },
  {
   "cell_type": "markdown",
   "metadata": {},
   "source": [
    "## "
   ]
  },
  {
   "cell_type": "markdown",
   "metadata": {},
   "source": [
    "## sex\n",
    "Columns created\n",
    "- sexNo\n",
    "- sexMale\n",
    "- sexFemale\n",
    "\n",
    "There are cases when female horses are spayed too. "
   ]
  },
  {
   "cell_type": "code",
   "execution_count": 40,
   "metadata": {},
   "outputs": [
    {
     "data": {
      "text/plain": [
       "array(['암', '수', '거'], dtype=object)"
      ]
     },
     "execution_count": 40,
     "metadata": {},
     "output_type": "execute_result"
    }
   ],
   "source": [
    "df['sex'].unique()"
   ]
  },
  {
   "cell_type": "code",
   "execution_count": 41,
   "metadata": {},
   "outputs": [
    {
     "data": {
      "text/plain": [
       "Index(['birthday', 'ageCond', 'age', 'winOdds', 'sj_3cOrd', 'ord', 'wgHr',\n",
       "       'track', 'wgDf', 'humidity', 'budam', 'buga1', 'buga2', 'buga3',\n",
       "       'chaksun1', 'chaksun2', 'chaksun3', 'chaksun4', 'chaksun5', 'chulNo',\n",
       "       'diffUnit', 'hrName', 'hrNo', 'hrTool', 'jkName', 'jkNo', 'name',\n",
       "       'owName', 'owNo', 'plcOdds', 'rank', 'rating', 'rcDate', 'rcDist',\n",
       "       'rcName', 'rcNo', 'rcTime', 'seG1fAccTime', 'seG3fAccTime',\n",
       "       'seS1fAccTime', 'se_1cAccTime', 'se_2cAccTime', 'se_3cAccTime',\n",
       "       'se_4cAccTime', 'sjG1fOrd', 'sjG3fOrd', 'sjS1fOrd', 'sj_1cOrd',\n",
       "       'sj_2cOrd', 'sj_4cOrd', 'trName', 'trNo', 'weather', 'wgBudam',\n",
       "       'wgBudamBigo', 'wgJk', 'maxRt', 'noob', 'sexNo', 'sexMale',\n",
       "       'sexFemale'],\n",
       "      dtype='object')"
      ]
     },
     "execution_count": 41,
     "metadata": {},
     "output_type": "execute_result"
    }
   ],
   "source": [
    "# One-hot encode the 'sex' column and concatenate with the original DataFrame\n",
    "df = pd.concat([df, pd.get_dummies(df['sex'], prefix='sex')], axis=1)\n",
    "\n",
    "# Drop the original 'sex' column if you no longer need it\n",
    "df.drop(columns=['sex'], inplace=True)\n",
    "df.rename(columns={'sex_거': 'sexNo', 'sex_수': 'sexMale', 'sex_암': 'sexFemale'}, inplace=True)\n",
    "df.columns"
   ]
  },
  {
   "cell_type": "markdown",
   "metadata": {},
   "source": [
    "## hrTool [미완][현재는 빼는걸로 함]\n",
    "\n",
    "[장구이름,장구이름] 형식으로 해둠\n",
    "하지만 encoding으로 할려다가 그러면 나중에 너무 길어지지 않을까?(one hot encoding하려는거에 대해 의문이 있다 )"
   ]
  },
  {
   "cell_type": "code",
   "execution_count": 42,
   "metadata": {},
   "outputs": [
    {
     "data": {
      "text/plain": [
       "array(['망사눈', '승인재갈', '-', ..., '양털코+,눈가면-,반가지큰-', '계란형큰+,망사눈-,반가지큰-',\n",
       "       '계란형큰+,망사,자극판-'], dtype=object)"
      ]
     },
     "execution_count": 42,
     "metadata": {},
     "output_type": "execute_result"
    }
   ],
   "source": [
    "df['hrTool'].unique()\n"
   ]
  },
  {
   "cell_type": "code",
   "execution_count": 43,
   "metadata": {},
   "outputs": [],
   "source": [
    "\n",
    "df['hrTool'] = df['hrTool'].astype(str)\n",
    "\n",
    "# Define a regular expression to match the pattern \",(some string)-\"\n",
    "pattern = r',[^,]+-'\n",
    "pattern2 = r'[^,]+-'\n",
    "\n",
    "# Apply the regular expression to remove the matching substrings\n",
    "df['hrTool'] = df['hrTool'].str.replace(pattern, '', regex=True)\n",
    "df['hrTool'] = df['hrTool'].str.replace(pattern2, '', regex=True)\n",
    "df['hrTool'] = df['hrTool'].str.replace('+','')\n",
    "df['hrTool'] = df['hrTool'].str.replace('-','')\n",
    "df['hrTool'] = df['hrTool'].str.replace(r'\\s+','',regex=True)\n",
    "\n",
    "#hrTool spliting \n",
    "df_split =df['hrTool'].str.split(',')\n",
    "\n"
   ]
  },
  {
   "cell_type": "code",
   "execution_count": 44,
   "metadata": {},
   "outputs": [
    {
     "data": {
      "text/html": [
       "<div>\n",
       "<style scoped>\n",
       "    .dataframe tbody tr th:only-of-type {\n",
       "        vertical-align: middle;\n",
       "    }\n",
       "\n",
       "    .dataframe tbody tr th {\n",
       "        vertical-align: top;\n",
       "    }\n",
       "\n",
       "    .dataframe thead th {\n",
       "        text-align: right;\n",
       "    }\n",
       "</style>\n",
       "<table border=\"1\" class=\"dataframe\">\n",
       "  <thead>\n",
       "    <tr style=\"text-align: right;\">\n",
       "      <th></th>\n",
       "      <th>hrTool</th>\n",
       "    </tr>\n",
       "  </thead>\n",
       "  <tbody>\n",
       "    <tr>\n",
       "      <th>0</th>\n",
       "      <td>망사눈</td>\n",
       "    </tr>\n",
       "    <tr>\n",
       "      <th>1</th>\n",
       "      <td>망사눈</td>\n",
       "    </tr>\n",
       "    <tr>\n",
       "      <th>2</th>\n",
       "      <td>승인재갈</td>\n",
       "    </tr>\n",
       "    <tr>\n",
       "      <th>3</th>\n",
       "      <td></td>\n",
       "    </tr>\n",
       "    <tr>\n",
       "      <th>4</th>\n",
       "      <td>망사</td>\n",
       "    </tr>\n",
       "    <tr>\n",
       "      <th>...</th>\n",
       "      <td>...</td>\n",
       "    </tr>\n",
       "    <tr>\n",
       "      <th>55000</th>\n",
       "      <td></td>\n",
       "    </tr>\n",
       "    <tr>\n",
       "      <th>55001</th>\n",
       "      <td>망사</td>\n",
       "    </tr>\n",
       "    <tr>\n",
       "      <th>55002</th>\n",
       "      <td>망사,반가지큰</td>\n",
       "    </tr>\n",
       "    <tr>\n",
       "      <th>55003</th>\n",
       "      <td>계란형큰,망사눈</td>\n",
       "    </tr>\n",
       "    <tr>\n",
       "      <th>55004</th>\n",
       "      <td>망사눈</td>\n",
       "    </tr>\n",
       "  </tbody>\n",
       "</table>\n",
       "<p>55005 rows × 1 columns</p>\n",
       "</div>"
      ],
      "text/plain": [
       "         hrTool\n",
       "0           망사눈\n",
       "1           망사눈\n",
       "2          승인재갈\n",
       "3              \n",
       "4            망사\n",
       "...         ...\n",
       "55000          \n",
       "55001        망사\n",
       "55002   망사,반가지큰\n",
       "55003  계란형큰,망사눈\n",
       "55004       망사눈\n",
       "\n",
       "[55005 rows x 1 columns]"
      ]
     },
     "execution_count": 44,
     "metadata": {},
     "output_type": "execute_result"
    }
   ],
   "source": [
    "df[['hrTool']]"
   ]
  },
  {
   "cell_type": "code",
   "execution_count": 45,
   "metadata": {},
   "outputs": [
    {
     "name": "stdout",
     "output_type": "stream",
     "text": [
      "Final DataFrame after one-hot encoding:\n"
     ]
    },
    {
     "data": {
      "text/html": [
       "<div>\n",
       "<style scoped>\n",
       "    .dataframe tbody tr th:only-of-type {\n",
       "        vertical-align: middle;\n",
       "    }\n",
       "\n",
       "    .dataframe tbody tr th {\n",
       "        vertical-align: top;\n",
       "    }\n",
       "\n",
       "    .dataframe thead th {\n",
       "        text-align: right;\n",
       "    }\n",
       "</style>\n",
       "<table border=\"1\" class=\"dataframe\">\n",
       "  <thead>\n",
       "    <tr style=\"text-align: right;\">\n",
       "      <th></th>\n",
       "      <th>birthday</th>\n",
       "      <th>ageCond</th>\n",
       "      <th>age</th>\n",
       "      <th>winOdds</th>\n",
       "      <th>sj_3cOrd</th>\n",
       "      <th>ord</th>\n",
       "      <th>wgHr</th>\n",
       "      <th>track</th>\n",
       "      <th>wgDf</th>\n",
       "      <th>humidity</th>\n",
       "      <th>...</th>\n",
       "      <th>정</th>\n",
       "      <th>지</th>\n",
       "      <th>컬</th>\n",
       "      <th>코</th>\n",
       "      <th>큰</th>\n",
       "      <th>털</th>\n",
       "      <th>판</th>\n",
       "      <th>편</th>\n",
       "      <th>혀</th>\n",
       "      <th>형</th>\n",
       "    </tr>\n",
       "  </thead>\n",
       "  <tbody>\n",
       "    <tr>\n",
       "      <th>0</th>\n",
       "      <td>20150308</td>\n",
       "      <td>연령오픈</td>\n",
       "      <td>4</td>\n",
       "      <td>10.7</td>\n",
       "      <td>8</td>\n",
       "      <td>1</td>\n",
       "      <td>472</td>\n",
       "      <td>건조</td>\n",
       "      <td>-12.0</td>\n",
       "      <td>2</td>\n",
       "      <td>...</td>\n",
       "      <td>0</td>\n",
       "      <td>0</td>\n",
       "      <td>0</td>\n",
       "      <td>0</td>\n",
       "      <td>0</td>\n",
       "      <td>0</td>\n",
       "      <td>0</td>\n",
       "      <td>0</td>\n",
       "      <td>0</td>\n",
       "      <td>0</td>\n",
       "    </tr>\n",
       "    <tr>\n",
       "      <th>1</th>\n",
       "      <td>20160326</td>\n",
       "      <td>연령오픈</td>\n",
       "      <td>3</td>\n",
       "      <td>2.8</td>\n",
       "      <td>2</td>\n",
       "      <td>2</td>\n",
       "      <td>457</td>\n",
       "      <td>건조</td>\n",
       "      <td>3.0</td>\n",
       "      <td>2</td>\n",
       "      <td>...</td>\n",
       "      <td>0</td>\n",
       "      <td>0</td>\n",
       "      <td>0</td>\n",
       "      <td>0</td>\n",
       "      <td>0</td>\n",
       "      <td>0</td>\n",
       "      <td>0</td>\n",
       "      <td>0</td>\n",
       "      <td>0</td>\n",
       "      <td>0</td>\n",
       "    </tr>\n",
       "    <tr>\n",
       "      <th>2</th>\n",
       "      <td>20160520</td>\n",
       "      <td>연령오픈</td>\n",
       "      <td>3</td>\n",
       "      <td>3.4</td>\n",
       "      <td>6</td>\n",
       "      <td>3</td>\n",
       "      <td>462</td>\n",
       "      <td>건조</td>\n",
       "      <td>-1.0</td>\n",
       "      <td>2</td>\n",
       "      <td>...</td>\n",
       "      <td>0</td>\n",
       "      <td>0</td>\n",
       "      <td>0</td>\n",
       "      <td>0</td>\n",
       "      <td>0</td>\n",
       "      <td>0</td>\n",
       "      <td>0</td>\n",
       "      <td>0</td>\n",
       "      <td>0</td>\n",
       "      <td>0</td>\n",
       "    </tr>\n",
       "    <tr>\n",
       "      <th>3</th>\n",
       "      <td>20150314</td>\n",
       "      <td>연령오픈</td>\n",
       "      <td>4</td>\n",
       "      <td>22.0</td>\n",
       "      <td>3</td>\n",
       "      <td>4</td>\n",
       "      <td>477</td>\n",
       "      <td>건조</td>\n",
       "      <td>-10.0</td>\n",
       "      <td>2</td>\n",
       "      <td>...</td>\n",
       "      <td>0</td>\n",
       "      <td>0</td>\n",
       "      <td>0</td>\n",
       "      <td>0</td>\n",
       "      <td>0</td>\n",
       "      <td>0</td>\n",
       "      <td>0</td>\n",
       "      <td>0</td>\n",
       "      <td>0</td>\n",
       "      <td>0</td>\n",
       "    </tr>\n",
       "    <tr>\n",
       "      <th>4</th>\n",
       "      <td>20160412</td>\n",
       "      <td>연령오픈</td>\n",
       "      <td>3</td>\n",
       "      <td>94.8</td>\n",
       "      <td>10</td>\n",
       "      <td>5</td>\n",
       "      <td>469</td>\n",
       "      <td>건조</td>\n",
       "      <td>20.0</td>\n",
       "      <td>2</td>\n",
       "      <td>...</td>\n",
       "      <td>0</td>\n",
       "      <td>0</td>\n",
       "      <td>0</td>\n",
       "      <td>0</td>\n",
       "      <td>0</td>\n",
       "      <td>0</td>\n",
       "      <td>0</td>\n",
       "      <td>0</td>\n",
       "      <td>0</td>\n",
       "      <td>0</td>\n",
       "    </tr>\n",
       "    <tr>\n",
       "      <th>...</th>\n",
       "      <td>...</td>\n",
       "      <td>...</td>\n",
       "      <td>...</td>\n",
       "      <td>...</td>\n",
       "      <td>...</td>\n",
       "      <td>...</td>\n",
       "      <td>...</td>\n",
       "      <td>...</td>\n",
       "      <td>...</td>\n",
       "      <td>...</td>\n",
       "      <td>...</td>\n",
       "      <td>...</td>\n",
       "      <td>...</td>\n",
       "      <td>...</td>\n",
       "      <td>...</td>\n",
       "      <td>...</td>\n",
       "      <td>...</td>\n",
       "      <td>...</td>\n",
       "      <td>...</td>\n",
       "      <td>...</td>\n",
       "      <td>...</td>\n",
       "    </tr>\n",
       "    <tr>\n",
       "      <th>55000</th>\n",
       "      <td>20210210</td>\n",
       "      <td>연령오픈</td>\n",
       "      <td>3</td>\n",
       "      <td>5.2</td>\n",
       "      <td>6</td>\n",
       "      <td>4</td>\n",
       "      <td>455</td>\n",
       "      <td>양호</td>\n",
       "      <td>NaN</td>\n",
       "      <td>9</td>\n",
       "      <td>...</td>\n",
       "      <td>0</td>\n",
       "      <td>0</td>\n",
       "      <td>0</td>\n",
       "      <td>0</td>\n",
       "      <td>0</td>\n",
       "      <td>0</td>\n",
       "      <td>0</td>\n",
       "      <td>0</td>\n",
       "      <td>0</td>\n",
       "      <td>0</td>\n",
       "    </tr>\n",
       "    <tr>\n",
       "      <th>55001</th>\n",
       "      <td>20170327</td>\n",
       "      <td>연령오픈</td>\n",
       "      <td>7</td>\n",
       "      <td>30.6</td>\n",
       "      <td>7</td>\n",
       "      <td>5</td>\n",
       "      <td>455</td>\n",
       "      <td>양호</td>\n",
       "      <td>4.0</td>\n",
       "      <td>9</td>\n",
       "      <td>...</td>\n",
       "      <td>0</td>\n",
       "      <td>0</td>\n",
       "      <td>0</td>\n",
       "      <td>0</td>\n",
       "      <td>0</td>\n",
       "      <td>0</td>\n",
       "      <td>0</td>\n",
       "      <td>0</td>\n",
       "      <td>0</td>\n",
       "      <td>0</td>\n",
       "    </tr>\n",
       "    <tr>\n",
       "      <th>55002</th>\n",
       "      <td>20180406</td>\n",
       "      <td>연령오픈</td>\n",
       "      <td>6</td>\n",
       "      <td>22.5</td>\n",
       "      <td>8</td>\n",
       "      <td>6</td>\n",
       "      <td>468</td>\n",
       "      <td>양호</td>\n",
       "      <td>8.0</td>\n",
       "      <td>9</td>\n",
       "      <td>...</td>\n",
       "      <td>0</td>\n",
       "      <td>1</td>\n",
       "      <td>0</td>\n",
       "      <td>0</td>\n",
       "      <td>1</td>\n",
       "      <td>0</td>\n",
       "      <td>0</td>\n",
       "      <td>0</td>\n",
       "      <td>0</td>\n",
       "      <td>0</td>\n",
       "    </tr>\n",
       "    <tr>\n",
       "      <th>55003</th>\n",
       "      <td>20190417</td>\n",
       "      <td>연령오픈</td>\n",
       "      <td>5</td>\n",
       "      <td>30.0</td>\n",
       "      <td>3</td>\n",
       "      <td>7</td>\n",
       "      <td>500</td>\n",
       "      <td>양호</td>\n",
       "      <td>-2.0</td>\n",
       "      <td>9</td>\n",
       "      <td>...</td>\n",
       "      <td>0</td>\n",
       "      <td>0</td>\n",
       "      <td>0</td>\n",
       "      <td>0</td>\n",
       "      <td>1</td>\n",
       "      <td>0</td>\n",
       "      <td>0</td>\n",
       "      <td>0</td>\n",
       "      <td>0</td>\n",
       "      <td>1</td>\n",
       "    </tr>\n",
       "    <tr>\n",
       "      <th>55004</th>\n",
       "      <td>20210312</td>\n",
       "      <td>연령오픈</td>\n",
       "      <td>3</td>\n",
       "      <td>1.7</td>\n",
       "      <td>1</td>\n",
       "      <td>8</td>\n",
       "      <td>489</td>\n",
       "      <td>양호</td>\n",
       "      <td>-1.0</td>\n",
       "      <td>9</td>\n",
       "      <td>...</td>\n",
       "      <td>0</td>\n",
       "      <td>0</td>\n",
       "      <td>0</td>\n",
       "      <td>0</td>\n",
       "      <td>0</td>\n",
       "      <td>0</td>\n",
       "      <td>0</td>\n",
       "      <td>0</td>\n",
       "      <td>0</td>\n",
       "      <td>0</td>\n",
       "    </tr>\n",
       "  </tbody>\n",
       "</table>\n",
       "<p>55005 rows × 108 columns</p>\n",
       "</div>"
      ],
      "text/plain": [
       "       birthday ageCond  age  winOdds  sj_3cOrd  ord  wgHr track  wgDf  \\\n",
       "0      20150308    연령오픈    4     10.7         8    1   472    건조 -12.0   \n",
       "1      20160326    연령오픈    3      2.8         2    2   457    건조   3.0   \n",
       "2      20160520    연령오픈    3      3.4         6    3   462    건조  -1.0   \n",
       "3      20150314    연령오픈    4     22.0         3    4   477    건조 -10.0   \n",
       "4      20160412    연령오픈    3     94.8        10    5   469    건조  20.0   \n",
       "...         ...     ...  ...      ...       ...  ...   ...   ...   ...   \n",
       "55000  20210210    연령오픈    3      5.2         6    4   455    양호   NaN   \n",
       "55001  20170327    연령오픈    7     30.6         7    5   455    양호   4.0   \n",
       "55002  20180406    연령오픈    6     22.5         8    6   468    양호   8.0   \n",
       "55003  20190417    연령오픈    5     30.0         3    7   500    양호  -2.0   \n",
       "55004  20210312    연령오픈    3      1.7         1    8   489    양호  -1.0   \n",
       "\n",
       "       humidity  ...  정  지  컬  코  큰  털  판  편  혀  형  \n",
       "0             2  ...  0  0  0  0  0  0  0  0  0  0  \n",
       "1             2  ...  0  0  0  0  0  0  0  0  0  0  \n",
       "2             2  ...  0  0  0  0  0  0  0  0  0  0  \n",
       "3             2  ...  0  0  0  0  0  0  0  0  0  0  \n",
       "4             2  ...  0  0  0  0  0  0  0  0  0  0  \n",
       "...         ...  ... .. .. .. .. .. .. .. .. .. ..  \n",
       "55000         9  ...  0  0  0  0  0  0  0  0  0  0  \n",
       "55001         9  ...  0  0  0  0  0  0  0  0  0  0  \n",
       "55002         9  ...  0  1  0  0  1  0  0  0  0  0  \n",
       "55003         9  ...  0  0  0  0  1  0  0  0  0  1  \n",
       "55004         9  ...  0  0  0  0  0  0  0  0  0  0  \n",
       "\n",
       "[55005 rows x 108 columns]"
      ]
     },
     "execution_count": 45,
     "metadata": {},
     "output_type": "execute_result"
    }
   ],
   "source": [
    "from sklearn.preprocessing import MultiLabelBinarizer\n",
    "\n",
    "# Perform one-hot encoding using MultiLabelBinarizer\n",
    "mlb = MultiLabelBinarizer()\n",
    "df_encoded = pd.DataFrame(mlb.fit_transform(df['hrTool']), columns=mlb.classes_, index=df.index)\n",
    "\n",
    "# Concatenate the original DataFrame with the one-hot encoded columns\n",
    "df_final = pd.concat([df, df_encoded], axis=1).drop('hrTool', axis=1)\n",
    "print(\"Final DataFrame after one-hot encoding:\")\n",
    "df_final"
   ]
  },
  {
   "cell_type": "markdown",
   "metadata": {},
   "source": [
    "## Track\n",
    "\n",
    "Changed to numerical values(more details in data exploration page of notion)"
   ]
  },
  {
   "cell_type": "code",
   "execution_count": 46,
   "metadata": {},
   "outputs": [
    {
     "data": {
      "text/plain": [
       "array([1, 5, 2, 3, 4])"
      ]
     },
     "execution_count": 46,
     "metadata": {},
     "output_type": "execute_result"
    }
   ],
   "source": [
    "df['track'] = df['track'].astype(str)\n",
    "# Define the mapping dictionary\n",
    "mapping = {\n",
    "    '건조': 1,\n",
    "    '불량': 5,\n",
    "    '양호': 2,\n",
    "    '다습': 3,\n",
    "    '포화': 4\n",
    "}\n",
    "\n",
    "df['track'] = df['track'].map(mapping)\n",
    "df['track'].unique()"
   ]
  },
  {
   "cell_type": "markdown",
   "metadata": {},
   "source": [
    "## Rank\n",
    "\n",
    "- Splitted into two columns\n",
    "    - rankOrigin : 혼/국\n",
    "    - rank : 등급 + OPEN"
   ]
  },
  {
   "cell_type": "code",
   "execution_count": 47,
   "metadata": {},
   "outputs": [
    {
     "name": "stdout",
     "output_type": "stream",
     "text": [
      "DataFrame after processing:\n"
     ]
    },
    {
     "data": {
      "text/plain": [
       "0        6.0\n",
       "1        6.0\n",
       "2        6.0\n",
       "3        6.0\n",
       "4        6.0\n",
       "        ... \n",
       "55000    4.0\n",
       "55001    4.0\n",
       "55002    4.0\n",
       "55003    4.0\n",
       "55004    4.0\n",
       "Name: rank, Length: 55005, dtype: float64"
      ]
     },
     "execution_count": 47,
     "metadata": {},
     "output_type": "execute_result"
    }
   ],
   "source": [
    "import numpy as np\n",
    "\n",
    "df['rank'] = df['rank'].astype(str) \n",
    "\n",
    "# Function to extract and map 국/혼\n",
    "def extract_category(value):\n",
    "    if value.startswith('국'):\n",
    "        return 0\n",
    "    else:\n",
    "        return 1\n",
    "\n",
    "# Function to extract grade or set to NaN for OPEN\n",
    "def extract_grade(value):\n",
    "    if 'OPEN' in value:\n",
    "        return np.nan\n",
    "    else:\n",
    "        # Remove any non-numeric characters and convert to integer\n",
    "        return int(''.join(filter(str.isdigit, value)))\n",
    "\n",
    "# Apply the functions to create new columns\n",
    "df['rankOrigin'] = df['rank'].apply(extract_category)\n",
    "df['rank'] = df['rank'].apply(extract_grade)\n",
    "\n",
    "print(\"DataFrame after processing:\")\n",
    "df['rank']"
   ]
  },
  {
   "cell_type": "code",
   "execution_count": 63,
   "metadata": {},
   "outputs": [
    {
     "data": {
      "text/plain": [
       "0        1\n",
       "1        1\n",
       "2        1\n",
       "3        1\n",
       "4        1\n",
       "        ..\n",
       "55000    2\n",
       "55001    2\n",
       "55002    2\n",
       "55003    2\n",
       "55004    2\n",
       "Name: track, Length: 53235, dtype: int64"
      ]
     },
     "execution_count": 63,
     "metadata": {},
     "output_type": "execute_result"
    }
   ],
   "source": [
    "df['track']"
   ]
  },
  {
   "cell_type": "code",
   "execution_count": 48,
   "metadata": {},
   "outputs": [],
   "source": [
    "df = df.drop(columns=['hrTool'])\n",
    "df.to_csv(\"시험용.csv\", index=False)\n"
   ]
  },
  {
   "cell_type": "markdown",
   "metadata": {},
   "source": [
    "# Split Train / Validation\n",
    "\n",
    "Split based on datetime."
   ]
  },
  {
   "cell_type": "code",
   "execution_count": 49,
   "metadata": {},
   "outputs": [],
   "source": [
    "train_df = df[df['rcDate'] < pd.to_datetime(\"2023-01-01\")]\n",
    "valid_df = df[df['rcDate'] >= pd.to_datetime(\"2023-01-01\")]\n",
    "\n",
    "train_df.to_csv(\"race_train_2023_01_01.csv\", index=False)\n",
    "valid_df.to_csv(\"race_valid_2023_01_01.csv\", index=False)"
   ]
  },
  {
   "cell_type": "code",
   "execution_count": 50,
   "metadata": {},
   "outputs": [],
   "source": [
    "train_df = pd.read_csv('race_train_2023_01_01.csv', dtype=df_dtypes)\n",
    "valid_df = pd.read_csv('race_valid_2023_01_01.csv', dtype=df_dtypes)"
   ]
  },
  {
   "cell_type": "code",
   "execution_count": 51,
   "metadata": {},
   "outputs": [
    {
     "data": {
      "text/plain": [
       "Index(['birthday', 'ageCond', 'age', 'winOdds', 'sj_3cOrd', 'ord', 'wgHr',\n",
       "       'track', 'wgDf', 'humidity', 'budam', 'buga1', 'buga2', 'buga3',\n",
       "       'chaksun1', 'chaksun2', 'chaksun3', 'chaksun4', 'chaksun5', 'chulNo',\n",
       "       'diffUnit', 'hrName', 'hrNo', 'jkName', 'jkNo', 'name', 'owName',\n",
       "       'owNo', 'plcOdds', 'rank', 'rating', 'rcDate', 'rcDist', 'rcName',\n",
       "       'rcNo', 'rcTime', 'seG1fAccTime', 'seG3fAccTime', 'seS1fAccTime',\n",
       "       'se_1cAccTime', 'se_2cAccTime', 'se_3cAccTime', 'se_4cAccTime',\n",
       "       'sjG1fOrd', 'sjG3fOrd', 'sjS1fOrd', 'sj_1cOrd', 'sj_2cOrd', 'sj_4cOrd',\n",
       "       'trName', 'trNo', 'weather', 'wgBudam', 'wgBudamBigo', 'wgJk', 'maxRt',\n",
       "       'noob', 'sexNo', 'sexMale', 'sexFemale', 'rankOrigin'],\n",
       "      dtype='object')"
      ]
     },
     "execution_count": 51,
     "metadata": {},
     "output_type": "execute_result"
    }
   ],
   "source": [
    "train_df.columns"
   ]
  },
  {
   "cell_type": "code",
   "execution_count": 52,
   "metadata": {},
   "outputs": [],
   "source": [
    "#Imports\n",
    "\n",
    "import matplotlib.pyplot as plt"
   ]
  },
  {
   "cell_type": "code",
   "execution_count": 53,
   "metadata": {},
   "outputs": [
    {
     "name": "stdout",
     "output_type": "stream",
     "text": [
      "train_df is nan num:  3604\n",
      "valid_df is nan num:  1422\n"
     ]
    }
   ],
   "source": [
    "print(\"train_df is nan num: \", train_df.isna().sum().sum())\n",
    "print(\"valid_df is nan num: \", valid_df.isna().sum().sum())"
   ]
  },
  {
   "cell_type": "code",
   "execution_count": 54,
   "metadata": {},
   "outputs": [
    {
     "name": "stdout",
     "output_type": "stream",
     "text": [
      "int64\n"
     ]
    },
    {
     "data": {
      "image/png": "[encoded data removed]",
      "text/plain": [
       "<Figure size 640x480 with 1 Axes>"
      ]
     },
     "metadata": {},
     "output_type": "display_data"
    },
    {
     "name": "stdout",
     "output_type": "stream",
     "text": [
      "count    40354.000000\n",
      "mean         3.737820\n",
      "std          1.178767\n",
      "min          2.000000\n",
      "25%          3.000000\n",
      "50%          4.000000\n",
      "75%          4.000000\n",
      "max         10.000000\n",
      "Name: age, dtype: float64\n"
     ]
    }
   ],
   "source": [
    "print(train_df.age.dtype)\n",
    "\n",
    "# Plot histogram for a given column, e.g., 'value'\n",
    "plt.hist(train_df['age'], edgecolor='black', density=True)\n",
    "\n",
    "# Add titles and labels\n",
    "plt.title('Train Age Distribution')\n",
    "plt.xlabel('Age')\n",
    "plt.ylabel('Proportion')\n",
    "\n",
    "# Show the plot\n",
    "plt.show()\n",
    "print(train_df.age.describe())\n"
   ]
  },
  {
   "cell_type": "code",
   "execution_count": 55,
   "metadata": {},
   "outputs": [
    {
     "name": "stdout",
     "output_type": "stream",
     "text": [
      "int64\n"
     ]
    },
    {
     "data": {
      "image/png": "[encoded data removed]",
      "text/plain": [
       "<Figure size 640x480 with 1 Axes>"
      ]
     },
     "metadata": {},
     "output_type": "display_data"
    },
    {
     "name": "stdout",
     "output_type": "stream",
     "text": [
      "count    14651.000000\n",
      "mean         3.891543\n",
      "std          1.303779\n",
      "min          2.000000\n",
      "25%          3.000000\n",
      "50%          4.000000\n",
      "75%          5.000000\n",
      "max         11.000000\n",
      "Name: age, dtype: float64\n"
     ]
    }
   ],
   "source": [
    "print(valid_df.age.dtype)\n",
    "\n",
    "# Plot histogram for a given column, e.g., 'value'\n",
    "plt.hist(valid_df['age'], edgecolor='black', density=True)\n",
    "\n",
    "# Add titles and labels\n",
    "plt.title('Validation Age Distribution')\n",
    "plt.xlabel('Age')\n",
    "plt.ylabel('Proportion')\n",
    "\n",
    "# Show the plot\n",
    "plt.show()\n",
    "print(valid_df.age.describe())"
   ]
  },
  {
   "cell_type": "markdown",
   "metadata": {},
   "source": [
    "# Columns to ignore\n"
   ]
  },
  {
   "cell_type": "code",
   "execution_count": 56,
   "metadata": {},
   "outputs": [
    {
     "name": "stdout",
     "output_type": "stream",
     "text": [
      "float64\n"
     ]
    },
    {
     "data": {
      "image/png": "[encoded data removed]",
      "text/plain": [
       "<Figure size 640x480 with 1 Axes>"
      ]
     },
     "metadata": {},
     "output_type": "display_data"
    }
   ],
   "source": [
    "print(df.winOdds.dtype)\n",
    "# Plot histogram for a given column, e.g., 'value'\n",
    "plt.hist(df['winOdds'], bins=100, edgecolor='black', density=True)\n",
    "\n",
    "# Add titles and labels\n",
    "plt.title('Win Odds Distribution')\n",
    "plt.xlabel('Win Odds')\n",
    "plt.ylabel('Proportion')\n",
    "\n",
    "# Show the plot\n",
    "plt.show()"
   ]
  },
  {
   "cell_type": "markdown",
   "metadata": {},
   "source": [
    "Plot above shows outlier near 500 region. We consider this as an outlier."
   ]
  },
  {
   "cell_type": "code",
   "execution_count": 57,
   "metadata": {},
   "outputs": [
    {
     "data": {
      "image/png": "[encoded data removed]",
      "text/plain": [
       "<Figure size 640x480 with 1 Axes>"
      ]
     },
     "metadata": {},
     "output_type": "display_data"
    }
   ],
   "source": [
    "df = df[df['winOdds'] <= 500]\n",
    "# Plot histogram for a given column, e.g., 'value'\n",
    "plt.hist(df['winOdds'], bins=100, edgecolor='black', density=True)\n",
    "\n",
    "# Add titles and labels\n",
    "plt.title('Win Odds Distribution')\n",
    "plt.xlabel('Win Odds')\n",
    "plt.ylabel('Proportion')\n",
    "\n",
    "# Show the plot\n",
    "plt.show()"
   ]
  },
  {
   "cell_type": "markdown",
   "metadata": {},
   "source": [
    "Win Odds is for every horse. \n",
    "\n",
    "Instead of feeding the raw value as a feature, we can plot a win odds distribution and feed the p-value of the cdf of the exponential distribution.\n",
    "\n",
    "Reason\n",
    "- Raw value has very large scale. The absolute numbers may not mean anything. To help ML model converge faster, we feed meaningful, range bounded value. p-value has range [0.0, 1.0]."
   ]
  },
  {
   "cell_type": "code",
   "execution_count": 58,
   "metadata": {},
   "outputs": [],
   "source": [
    "from scipy.stats import expon, norm\n",
    "import numpy as np\n",
    "\n",
    "class Preprocessing:\n",
    "    def __init__(self):\n",
    "        self.win_odd_loc = 0.0\n",
    "        self.win_odd_scale = 0.0\n",
    "\n",
    "        self.plc_odd_loc = 0.0\n",
    "        self.plc_odd_scale = 0.0\n",
    "\n",
    "        self.wgDf_mu = 0.0\n",
    "        self.wgDf_scale = 0.0\n",
    "    \n",
    "    def fit(self, df):\n",
    "        params = expon.fit(df[\"winOdds\"])\n",
    "        self.win_odd_loc, self.win_odd_scale = params\n",
    "\n",
    "        params = expon.fit(df[\"plcOdds\"])\n",
    "        self.plc_odd_loc, self.plc_odd_scale = params\n",
    "\n",
    "        log_weight_diff = np.log(df[\"wgHr\"]) - np.log(df[\"wgHr\"] + df[\"wgDf\"])\n",
    "\n",
    "        self.wgDf_mu = np.mean(log_weight_diff)\n",
    "        self.wgDf_scale = np.std(log_weight_diff, ddof=1)\n",
    "\n",
    "    def forward(self, df):\n",
    "        df['winOdds'] = 1-expon.cdf(df['winOdds'], loc=self.win_odd_loc, scale=self.win_odd_scale)\n",
    "        df['plcOdds'] = 1-expon.cdf(df['plcOdds'], loc=self.plc_odd_loc, scale=self.plc_odd_scale)\n",
    "        log_weight_diff = np.log(df[\"wgHr\"]) - np.log(df[\"wgHr\"] + df[\"wgDf\"])\n",
    "        df['wgDf'] = (log_weight_diff - self.wgDf_mu) / self.wgDf_scale\n",
    "        return df\n",
    "\n",
    "preprocessing = Preprocessing()\n"
   ]
  },
  {
   "cell_type": "code",
   "execution_count": 59,
   "metadata": {},
   "outputs": [],
   "source": [
    "preprocessing.fit(train_df)\n",
    "train_df = preprocessing.forward(train_df)\n",
    "valid_df = preprocessing.forward(valid_df)"
   ]
  },
  {
   "cell_type": "code",
   "execution_count": 60,
   "metadata": {},
   "outputs": [
    {
     "data": {
      "image/png": "[encoded data removed]",
      "text/plain": [
       "<Figure size 640x480 with 1 Axes>"
      ]
     },
     "metadata": {},
     "output_type": "display_data"
    }
   ],
   "source": [
    "plt.hist(train_df['wgDf'], bins=100, edgecolor='black', density=True)\n",
    "\n",
    "# Create a range of values for plotting the PDF\n",
    "xmin, xmax = plt.xlim()\n",
    "x = np.linspace(-4, 4, 1000)\n",
    "\n",
    "# Plot the fitted normal distribution\n",
    "p = norm.pdf(x, 0, 1)\n",
    "plt.plot(x, p, 'k', linewidth=2)\n",
    "\n",
    "# Add titles and labels\n",
    "plt.title('Weight Difference Distribution')\n",
    "plt.xlabel('Weight Difference')\n",
    "plt.ylabel('Proportion')\n",
    "\n",
    "# Show the plot\n",
    "plt.show()"
   ]
  },
  {
   "cell_type": "code",
   "execution_count": 61,
   "metadata": {},
   "outputs": [
    {
     "data": {
      "image/png": "[encoded data removed]",
      "text/plain": [
       "<Figure size 640x480 with 1 Axes>"
      ]
     },
     "metadata": {},
     "output_type": "display_data"
    }
   ],
   "source": [
    "plt.hist(valid_df['wgDf'], bins=100, edgecolor='black', density=True)\n",
    "# Create a range of values for plotting the PDF\n",
    "xmin, xmax = plt.xlim()\n",
    "x = np.linspace(-4, 4, 1000)\n",
    "\n",
    "# Plot the fitted normal distribution\n",
    "p = norm.pdf(x, 0, 1)\n",
    "plt.plot(x, p, 'k', linewidth=2)\n",
    "\n",
    "# Add titles and labels\n",
    "plt.title('Weight Difference Distribution')\n",
    "plt.xlabel('Weight Difference')\n",
    "plt.ylabel('Proportion')\n",
    "\n",
    "# Show the plot\n",
    "plt.show()"
   ]
  },
  {
   "cell_type": "code",
   "execution_count": 62,
   "metadata": {},
   "outputs": [
    {
     "name": "stdout",
     "output_type": "stream",
     "text": [
      "21166    2021-03-21\n",
      "Name: rcDate, dtype: object\n",
      "21166    2\n",
      "Name: rcNo, dtype: object\n"
     ]
    }
   ],
   "source": [
    "print(train_df[train_df['diffUnit']==\"85\"]['rcDate'])\n",
    "print(train_df[train_df['diffUnit']==\"85\"]['rcNo'])"
   ]
  }
 ],
 "metadata": {
  "kernelspec": {
   "display_name": "icmppo",
   "language": "python",
   "name": "python3"
  },
  "language_info": {
   "codemirror_mode": {
    "name": "ipython",
    "version": 3
   },
   "file_extension": ".py",
   "mimetype": "text/x-python",
   "name": "python",
   "nbconvert_exporter": "python",
   "pygments_lexer": "ipython3",
   "version": "3.11.7"
  }
 },
 "nbformat": 4,
 "nbformat_minor": 2
}
