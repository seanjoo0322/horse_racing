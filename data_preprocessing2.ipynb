{
 "cells": [
  {
   "cell_type": "code",
   "execution_count": 23,
   "metadata": {},
   "outputs": [],
   "source": [
    "import pandas as pd\n"
   ]
  },
  {
   "cell_type": "code",
   "execution_count": 24,
   "metadata": {},
   "outputs": [],
   "source": [
    "df = pd.read_csv('시험용.csv', low_memory=False)\n",
    "df['wgDf']= df['wgDf'].fillna(0)\n"
   ]
  },
  {
   "cell_type": "markdown",
   "metadata": {},
   "source": [
    "## One Hot Encode Stuff"
   ]
  },
  {
   "cell_type": "code",
   "execution_count": 25,
   "metadata": {},
   "outputs": [
    {
     "data": {
      "text/html": [
       "<div>\n",
       "<style scoped>\n",
       "    .dataframe tbody tr th:only-of-type {\n",
       "        vertical-align: middle;\n",
       "    }\n",
       "\n",
       "    .dataframe tbody tr th {\n",
       "        vertical-align: top;\n",
       "    }\n",
       "\n",
       "    .dataframe thead th {\n",
       "        text-align: right;\n",
       "    }\n",
       "</style>\n",
       "<table border=\"1\" class=\"dataframe\">\n",
       "  <thead>\n",
       "    <tr style=\"text-align: right;\">\n",
       "      <th></th>\n",
       "      <th>birthday</th>\n",
       "      <th>age</th>\n",
       "      <th>winOdds</th>\n",
       "      <th>sj_3cOrd</th>\n",
       "      <th>ord</th>\n",
       "      <th>wgHr</th>\n",
       "      <th>track</th>\n",
       "      <th>wgDf</th>\n",
       "      <th>humidity</th>\n",
       "      <th>buga1</th>\n",
       "      <th>...</th>\n",
       "      <th>name_일본</th>\n",
       "      <th>name_캐나다</th>\n",
       "      <th>name_한국</th>\n",
       "      <th>name_호주</th>\n",
       "      <th>weather_강풍</th>\n",
       "      <th>weather_눈</th>\n",
       "      <th>weather_맑음</th>\n",
       "      <th>weather_비</th>\n",
       "      <th>weather_안개</th>\n",
       "      <th>weather_흐림</th>\n",
       "    </tr>\n",
       "  </thead>\n",
       "  <tbody>\n",
       "    <tr>\n",
       "      <th>0</th>\n",
       "      <td>20150308</td>\n",
       "      <td>4</td>\n",
       "      <td>10.7</td>\n",
       "      <td>8</td>\n",
       "      <td>1</td>\n",
       "      <td>472</td>\n",
       "      <td>1</td>\n",
       "      <td>-12.0</td>\n",
       "      <td>2</td>\n",
       "      <td>0</td>\n",
       "      <td>...</td>\n",
       "      <td>False</td>\n",
       "      <td>False</td>\n",
       "      <td>True</td>\n",
       "      <td>False</td>\n",
       "      <td>False</td>\n",
       "      <td>False</td>\n",
       "      <td>True</td>\n",
       "      <td>False</td>\n",
       "      <td>False</td>\n",
       "      <td>False</td>\n",
       "    </tr>\n",
       "    <tr>\n",
       "      <th>1</th>\n",
       "      <td>20160326</td>\n",
       "      <td>3</td>\n",
       "      <td>2.8</td>\n",
       "      <td>2</td>\n",
       "      <td>2</td>\n",
       "      <td>457</td>\n",
       "      <td>1</td>\n",
       "      <td>3.0</td>\n",
       "      <td>2</td>\n",
       "      <td>0</td>\n",
       "      <td>...</td>\n",
       "      <td>False</td>\n",
       "      <td>False</td>\n",
       "      <td>True</td>\n",
       "      <td>False</td>\n",
       "      <td>False</td>\n",
       "      <td>False</td>\n",
       "      <td>True</td>\n",
       "      <td>False</td>\n",
       "      <td>False</td>\n",
       "      <td>False</td>\n",
       "    </tr>\n",
       "    <tr>\n",
       "      <th>2</th>\n",
       "      <td>20160520</td>\n",
       "      <td>3</td>\n",
       "      <td>3.4</td>\n",
       "      <td>6</td>\n",
       "      <td>3</td>\n",
       "      <td>462</td>\n",
       "      <td>1</td>\n",
       "      <td>-1.0</td>\n",
       "      <td>2</td>\n",
       "      <td>0</td>\n",
       "      <td>...</td>\n",
       "      <td>False</td>\n",
       "      <td>False</td>\n",
       "      <td>True</td>\n",
       "      <td>False</td>\n",
       "      <td>False</td>\n",
       "      <td>False</td>\n",
       "      <td>True</td>\n",
       "      <td>False</td>\n",
       "      <td>False</td>\n",
       "      <td>False</td>\n",
       "    </tr>\n",
       "    <tr>\n",
       "      <th>3</th>\n",
       "      <td>20150314</td>\n",
       "      <td>4</td>\n",
       "      <td>22.0</td>\n",
       "      <td>3</td>\n",
       "      <td>4</td>\n",
       "      <td>477</td>\n",
       "      <td>1</td>\n",
       "      <td>-10.0</td>\n",
       "      <td>2</td>\n",
       "      <td>0</td>\n",
       "      <td>...</td>\n",
       "      <td>False</td>\n",
       "      <td>False</td>\n",
       "      <td>True</td>\n",
       "      <td>False</td>\n",
       "      <td>False</td>\n",
       "      <td>False</td>\n",
       "      <td>True</td>\n",
       "      <td>False</td>\n",
       "      <td>False</td>\n",
       "      <td>False</td>\n",
       "    </tr>\n",
       "    <tr>\n",
       "      <th>4</th>\n",
       "      <td>20160412</td>\n",
       "      <td>3</td>\n",
       "      <td>94.8</td>\n",
       "      <td>10</td>\n",
       "      <td>5</td>\n",
       "      <td>469</td>\n",
       "      <td>1</td>\n",
       "      <td>20.0</td>\n",
       "      <td>2</td>\n",
       "      <td>0</td>\n",
       "      <td>...</td>\n",
       "      <td>False</td>\n",
       "      <td>False</td>\n",
       "      <td>True</td>\n",
       "      <td>False</td>\n",
       "      <td>False</td>\n",
       "      <td>False</td>\n",
       "      <td>True</td>\n",
       "      <td>False</td>\n",
       "      <td>False</td>\n",
       "      <td>False</td>\n",
       "    </tr>\n",
       "  </tbody>\n",
       "</table>\n",
       "<p>5 rows × 84 columns</p>\n",
       "</div>"
      ],
      "text/plain": [
       "   birthday  age  winOdds  sj_3cOrd  ord  wgHr  track  wgDf  humidity  buga1  \\\n",
       "0  20150308    4     10.7         8    1   472      1 -12.0         2      0   \n",
       "1  20160326    3      2.8         2    2   457      1   3.0         2      0   \n",
       "2  20160520    3      3.4         6    3   462      1  -1.0         2      0   \n",
       "3  20150314    4     22.0         3    4   477      1 -10.0         2      0   \n",
       "4  20160412    3     94.8        10    5   469      1  20.0         2      0   \n",
       "\n",
       "   ...  name_일본  name_캐나다  name_한국  name_호주  weather_강풍  weather_눈  \\\n",
       "0  ...    False     False     True    False       False      False   \n",
       "1  ...    False     False     True    False       False      False   \n",
       "2  ...    False     False     True    False       False      False   \n",
       "3  ...    False     False     True    False       False      False   \n",
       "4  ...    False     False     True    False       False      False   \n",
       "\n",
       "   weather_맑음  weather_비  weather_안개 weather_흐림  \n",
       "0        True      False       False      False  \n",
       "1        True      False       False      False  \n",
       "2        True      False       False      False  \n",
       "3        True      False       False      False  \n",
       "4        True      False       False      False  \n",
       "\n",
       "[5 rows x 84 columns]"
      ]
     },
     "execution_count": 25,
     "metadata": {},
     "output_type": "execute_result"
    }
   ],
   "source": [
    "df = pd.get_dummies(df, columns=['ageCond'])\n",
    "df = pd.get_dummies(df, columns=['budam'])\n",
    "df = pd.get_dummies(df, columns=['name'])\n",
    "df = pd.get_dummies(df, columns=['weather'])\n",
    "df = df[df['rcName'] == '일반']\n",
    "df.head()"
   ]
  },
  {
   "cell_type": "markdown",
   "metadata": {},
   "source": [
    "## Time for Feature Engineering"
   ]
  },
  {
   "cell_type": "markdown",
   "metadata": {},
   "source": [
    "### rcDate and creating winRates"
   ]
  },
  {
   "cell_type": "code",
   "execution_count": 26,
   "metadata": {},
   "outputs": [],
   "source": [
    "df['rcDate'] = pd.to_datetime(df['rcDate'])"
   ]
  },
  {
   "cell_type": "code",
   "execution_count": 27,
   "metadata": {},
   "outputs": [],
   "source": [
    "df['time_since_last_race'] = df.groupby('hrName')['rcDate'].diff().dt.days\n",
    "\n",
    "df['time_since_last_race'] = df['time_since_last_race'].fillna(9999)\n",
    "\n",
    "# Create the 'timeRace' column based on the specified conditions\n",
    "def categorize_time(days):\n",
    "    if days > 90:\n",
    "        return 7\n",
    "    elif days > 75:\n",
    "        return 6\n",
    "    elif days > 60:\n",
    "        return 5\n",
    "    elif days > 45:\n",
    "        return 4\n",
    "    elif days > 30:\n",
    "        return 3\n",
    "    elif days > 15:\n",
    "        return 2\n",
    "    elif days > 1:\n",
    "        return 1\n",
    "    else:\n",
    "        return 0\n",
    "\n",
    "df['timeRace'] = df['time_since_last_race'].apply(categorize_time)\n",
    "\n",
    "# Drop the 'time_since_last_race' column as it's no longer needed\n",
    "df = df.drop(columns=['time_since_last_race'])\n",
    "\n"
   ]
  },
  {
   "cell_type": "markdown",
   "metadata": {},
   "source": [
    "### finishing position in past races \n",
    "\n",
    "Dropped race_position"
   ]
  },
  {
   "cell_type": "code",
   "execution_count": 28,
   "metadata": {},
   "outputs": [],
   "source": [
    "df['num_horses'] = df.groupby(['rankOrigin', 'noob', 'maxRt', 'rank', 'rcDate', 'rcDist'])['ord'].transform('max')\n",
    "df['race_position'] = df['ord'] / df['num_horses']\n",
    "df.drop(columns=['num_horses'], inplace=True)\n"
   ]
  },
  {
   "cell_type": "code",
   "execution_count": 29,
   "metadata": {},
   "outputs": [],
   "source": [
    "def calculate_good_race_past(group):\n",
    "    group = group.sort_values(by='rcDate')\n",
    "    good_races = []\n",
    "    for i in range(len(group)):\n",
    "        if i >= 3:\n",
    "            avg_race_position = group.iloc[:i]['race_position'].tail(3).mean()\n",
    "            good_races.append(1 if avg_race_position < 0.4 else 0)\n",
    "        else:\n",
    "            good_races.append(0)  # Not enough past races to determine good race status\n",
    "    return pd.Series(good_races, index=group.index)\n",
    "\n",
    "df['horse_good_race'] = df.groupby('hrName').apply(calculate_good_race_past).reset_index(level=0, drop=True)\n",
    "df['jockey_good_race'] = df.groupby('jkName').apply(calculate_good_race_past).reset_index(level=0, drop=True)\n",
    "df['trainer_good_race'] = df.groupby('trName').apply(calculate_good_race_past).reset_index(level=0, drop=True)\n"
   ]
  },
  {
   "cell_type": "code",
   "execution_count": 30,
   "metadata": {},
   "outputs": [],
   "source": [
    "df.drop(columns=['race_position'], inplace=True)\n"
   ]
  },
  {
   "cell_type": "markdown",
   "metadata": {},
   "source": [
    "### Lengths behind winner in past races"
   ]
  },
  {
   "cell_type": "code",
   "execution_count": 31,
   "metadata": {},
   "outputs": [],
   "source": [
    "# Distance from First place horse\n",
    "df['chakcha'] = df.groupby(['rcDate', 'rankOrigin', 'noob', 'maxRt', 'rank', 'rcDist'])['diffUnit'].cumsum()"
   ]
  },
  {
   "cell_type": "code",
   "execution_count": 32,
   "metadata": {},
   "outputs": [],
   "source": [
    "def calculate_distFirst_past(group):\n",
    "    group = group.sort_values(by='rcDate')\n",
    "    avg_distances = []\n",
    "    for i in range(len(group)):\n",
    "        if i >= 1:\n",
    "            avg_race_position = group.iloc[:i]['chakcha'].tail(min(3, i)).mean()\n",
    "            avg_distances.append(avg_race_position)\n",
    "        else:\n",
    "            avg_distances.append(0)  # If it's the first race, there are no past races\n",
    "    return pd.Series(avg_distances, index=group.index)\n",
    "\n",
    "# Applying the function to each group to calculate AVGdistFirst\n",
    "df['AVGdistFirst'] = df.groupby('hrName').apply(calculate_distFirst_past).reset_index(level=0, drop=True)\n"
   ]
  },
  {
   "cell_type": "markdown",
   "metadata": {},
   "source": [
    "### Weight Carried in Past Races"
   ]
  },
  {
   "cell_type": "code",
   "execution_count": 33,
   "metadata": {},
   "outputs": [],
   "source": [
    "def calculate_avg_weight(group):\n",
    "    group = group.sort_values(by='rcDate')\n",
    "    avg_weights = group['wgBudam'].rolling(window=3, min_periods=1).mean()\n",
    "    return avg_weights\n",
    "\n",
    "df['AVGwgBudam'] = df.groupby('hrName').apply(lambda x: calculate_avg_weight(x)).reset_index(level=0, drop=True)\n"
   ]
  },
  {
   "cell_type": "markdown",
   "metadata": {},
   "source": [
    "### Mid race order conversion"
   ]
  },
  {
   "cell_type": "code",
   "execution_count": 34,
   "metadata": {},
   "outputs": [],
   "source": [
    "# Dropping certain Columns for the data\n",
    "df.drop(columns=[\"sj_3cOrd\", \"sj_1cOrd\", \"sj_2cOrd\", \"sj_4cOrd\", \"seG1fAccTime\", \"seG3fAccTime\", \"seS1fAccTime\", \"se_1cAccTime\", \"se_2cAccTime\", \"se_3cAccTime\", \"se_4cAccTime\"]\n",
    ", inplace=True)\n"
   ]
  },
  {
   "cell_type": "code",
   "execution_count": 35,
   "metadata": {},
   "outputs": [],
   "source": [
    "\n",
    "def calculate_sjS1fOrd_past(group):\n",
    "    group = group.sort_values(by='rcDate')\n",
    "    avg_distances = []\n",
    "    for i in range(len(group)):\n",
    "        if i >= 1:\n",
    "            avg_race_position = group.iloc[:i]['sjS1fOrd'].tail(min(3, i)).mean()\n",
    "            avg_distances.append(avg_race_position)\n",
    "        else:\n",
    "            avg_distances.append(0)  # If it's the first race, there are no past races\n",
    "    return pd.Series(avg_distances, index=group.index)\n",
    "\n",
    "def calculate_sjG3fOrd_past(group):\n",
    "    group = group.sort_values(by='rcDate')\n",
    "    avg_distances = []\n",
    "    for i in range(len(group)):\n",
    "        if i >= 1:\n",
    "            avg_race_position = group.iloc[:i]['sjG3fOrd'].tail(min(3, i)).mean()\n",
    "            avg_distances.append(avg_race_position)\n",
    "        else:\n",
    "            avg_distances.append(0)  # If it's the first race, there are no past races\n",
    "    return pd.Series(avg_distances, index=group.index)\n",
    "\n",
    "def calculate_sjG1fOrd_past(group):\n",
    "    group = group.sort_values(by='rcDate')\n",
    "    avg_distances = []\n",
    "    for i in range(len(group)):\n",
    "        if i >= 1:\n",
    "            avg_race_position = group.iloc[:i]['sjG1fOrd'].tail(min(3, i)).mean()\n",
    "            avg_distances.append(avg_race_position)\n",
    "        else:\n",
    "            avg_distances.append(0)  # If it's the first race, there are no past races\n",
    "    return pd.Series(avg_distances, index=group.index)\n",
    "\n",
    "# Applying the function to each group to calculate AVGdistFirst\n",
    "df['AVGsjS1fOrd'] = df.groupby('hrName').apply(calculate_sjS1fOrd_past).reset_index(level=0, drop=True)\n",
    "df['AVGsjG3fOrd'] = df.groupby('hrName').apply(calculate_sjG3fOrd_past).reset_index(level=0, drop=True)\n",
    "df['AVGsjG1fOrd'] = df.groupby('hrName').apply(calculate_sjG1fOrd_past).reset_index(level=0, drop=True)\n",
    "\n",
    "\n"
   ]
  },
  {
   "cell_type": "code",
   "execution_count": 36,
   "metadata": {},
   "outputs": [
    {
     "data": {
      "text/plain": [
       "0         63.1\n",
       "1         63.1\n",
       "2         63.9\n",
       "3         64.1\n",
       "4         64.1\n",
       "         ...  \n",
       "55000    113.3\n",
       "55001    113.6\n",
       "55002    113.8\n",
       "55003    114.0\n",
       "55004    119.7\n",
       "Name: rcTime, Length: 51513, dtype: float64"
      ]
     },
     "execution_count": 36,
     "metadata": {},
     "output_type": "execute_result"
    }
   ],
   "source": [
    "df['rcTime']"
   ]
  },
  {
   "cell_type": "markdown",
   "metadata": {},
   "source": [
    "### Dropping FInal not using columns"
   ]
  },
  {
   "cell_type": "code",
   "execution_count": 37,
   "metadata": {},
   "outputs": [],
   "source": [
    "df.drop(columns=['buga1', 'buga2', 'buga3','hrName','hrNo', 'jkName', 'jkNo', 'owName', 'owNo','rcName','rcTime', 'sjG1fOrd', 'sjG3fOrd',\n",
    "       'sjS1fOrd', 'trName', 'trNo',], inplace=True)"
   ]
  },
  {
   "cell_type": "markdown",
   "metadata": {},
   "source": [
    "### Converting wgBudamBigo to int"
   ]
  },
  {
   "cell_type": "code",
   "execution_count": 38,
   "metadata": {},
   "outputs": [],
   "source": [
    "df['wgBudamBigo'] = df['wgBudamBigo'].astype(str)\n",
    "df['wgBudamBigo'] = df['wgBudamBigo'].replace({'*': 1, '-': 0})\n",
    "df['wgBudamBigo'] = df['wgBudamBigo'].astype(int)\n"
   ]
  },
  {
   "cell_type": "markdown",
   "metadata": {},
   "source": [
    "## FInal "
   ]
  },
  {
   "cell_type": "code",
   "execution_count": 39,
   "metadata": {},
   "outputs": [],
   "source": [
    "df.to_csv(\"Final_research.csv\", index=False)\n"
   ]
  },
  {
   "cell_type": "code",
   "execution_count": null,
   "metadata": {},
   "outputs": [],
   "source": []
  }
 ],
 "metadata": {
  "kernelspec": {
   "display_name": "base",
   "language": "python",
   "name": "python3"
  },
  "language_info": {
   "codemirror_mode": {
    "name": "ipython",
    "version": 3
   },
   "file_extension": ".py",
   "mimetype": "text/x-python",
   "name": "python",
   "nbconvert_exporter": "python",
   "pygments_lexer": "ipython3",
   "version": "3.11.7"
  }
 },
 "nbformat": 4,
 "nbformat_minor": 2
}
