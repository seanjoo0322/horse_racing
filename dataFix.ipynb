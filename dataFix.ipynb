{
 "cells": [
  {
   "cell_type": "code",
   "execution_count": 191,
   "metadata": {},
   "outputs": [],
   "source": [
    "import numpy as np\n",
    "import pandas as pd"
   ]
  },
  {
   "cell_type": "code",
   "execution_count": 192,
   "metadata": {},
   "outputs": [
    {
     "name": "stderr",
     "output_type": "stream",
     "text": [
      "/var/folders/zf/4s7q2ydx00n7c1n6nz_8l2h40000gn/T/ipykernel_12894/2322127352.py:1: DtypeWarning: Columns (49,83) have mixed types. Specify dtype option on import or set low_memory=False.\n",
      "  df = pd.read_csv(\"/Users/seanjoo/Desktop/horse/경주성적정보_full.csv\")\n"
     ]
    }
   ],
   "source": [
    "df = pd.read_csv(\"/Users/seanjoo/Desktop/horse/경주성적정보_full.csv\")"
   ]
  },
  {
   "cell_type": "code",
   "execution_count": 193,
   "metadata": {},
   "outputs": [
    {
     "data": {
      "text/plain": [
       "array(['부경', '서울', '제주'], dtype=object)"
      ]
     },
     "execution_count": 193,
     "metadata": {},
     "output_type": "execute_result"
    }
   ],
   "source": [
    "df.head()\n",
    "df['meet'].unique()"
   ]
  },
  {
   "cell_type": "code",
   "execution_count": 194,
   "metadata": {},
   "outputs": [],
   "source": [
    "#부산, 제주 관련 경주 제외\n",
    "#ordBigo가 아닌 경주 제외 \n",
    "df = df.drop(columns = [\"Unnamed: 0\"])\n",
    "df = df[(df['ord'] <= 80) &(df['ord'] != 0)]\n",
    "df = df[(df['sjG1fOrd'] > 0) & (df['jeG1fTime'] == 0)]\n",
    "df = df.drop(columns = ['buG1fAccTime', 'buG1fOrd',\n",
    "       'buG2fAccTime', 'buG2fOrd', 'buG3fAccTime', 'buG3fOrd', 'buG4fAccTime',\n",
    "       'buG4fOrd', 'buG6fAccTime', 'buG6fOrd', 'buG8fAccTime', 'buG8fOrd',\n",
    "       'buS1fAccTime', 'buS1fOrd', 'buS1fTime', 'bu_10_8fTime', 'bu_1fGTime',\n",
    "       'bu_2fGTime', 'bu_3fGTime', 'bu_4_2fTime', 'bu_6_4fTime', 'bu_8_6fTime','jeG1fTime',\n",
    "       'jeG3fTime', 'jeS1fTime', 'je_1cTime', 'je_2cTime', 'je_3cTime',\n",
    "       'je_4cTime'])\n"
   ]
  },
  {
   "cell_type": "code",
   "execution_count": 195,
   "metadata": {},
   "outputs": [
    {
     "data": {
      "text/html": [
       "<div>\n",
       "<style scoped>\n",
       "    .dataframe tbody tr th:only-of-type {\n",
       "        vertical-align: middle;\n",
       "    }\n",
       "\n",
       "    .dataframe tbody tr th {\n",
       "        vertical-align: top;\n",
       "    }\n",
       "\n",
       "    .dataframe thead th {\n",
       "        text-align: right;\n",
       "    }\n",
       "</style>\n",
       "<table border=\"1\" class=\"dataframe\">\n",
       "  <thead>\n",
       "    <tr style=\"text-align: right;\">\n",
       "      <th></th>\n",
       "      <th>birthday</th>\n",
       "      <th>winOdds</th>\n",
       "      <th>ord</th>\n",
       "      <th>wgHr</th>\n",
       "      <th>track</th>\n",
       "      <th>wgDf</th>\n",
       "      <th>hd</th>\n",
       "    </tr>\n",
       "  </thead>\n",
       "  <tbody>\n",
       "    <tr>\n",
       "      <th>144</th>\n",
       "      <td>20150308</td>\n",
       "      <td>10.7</td>\n",
       "      <td>1</td>\n",
       "      <td>472</td>\n",
       "      <td>건조</td>\n",
       "      <td>-12</td>\n",
       "      <td>2</td>\n",
       "    </tr>\n",
       "    <tr>\n",
       "      <th>145</th>\n",
       "      <td>20160326</td>\n",
       "      <td>2.8</td>\n",
       "      <td>2</td>\n",
       "      <td>457</td>\n",
       "      <td>건조</td>\n",
       "      <td>+3</td>\n",
       "      <td>2</td>\n",
       "    </tr>\n",
       "    <tr>\n",
       "      <th>146</th>\n",
       "      <td>20160520</td>\n",
       "      <td>3.4</td>\n",
       "      <td>3</td>\n",
       "      <td>462</td>\n",
       "      <td>건조</td>\n",
       "      <td>-1</td>\n",
       "      <td>2</td>\n",
       "    </tr>\n",
       "    <tr>\n",
       "      <th>147</th>\n",
       "      <td>20150314</td>\n",
       "      <td>22.0</td>\n",
       "      <td>4</td>\n",
       "      <td>477</td>\n",
       "      <td>건조</td>\n",
       "      <td>-10</td>\n",
       "      <td>2</td>\n",
       "    </tr>\n",
       "    <tr>\n",
       "      <th>148</th>\n",
       "      <td>20160412</td>\n",
       "      <td>94.8</td>\n",
       "      <td>5</td>\n",
       "      <td>469</td>\n",
       "      <td>건조</td>\n",
       "      <td>+20</td>\n",
       "      <td>2</td>\n",
       "    </tr>\n",
       "  </tbody>\n",
       "</table>\n",
       "</div>"
      ],
      "text/plain": [
       "     birthday  winOdds  ord wgHr track wgDf hd\n",
       "144  20150308     10.7    1  472    건조  -12  2\n",
       "145  20160326      2.8    2  457    건조   +3  2\n",
       "146  20160520      3.4    3  462    건조   -1  2\n",
       "147  20150314     22.0    4  477    건조  -10  2\n",
       "148  20160412     94.8    5  469    건조  +20  2"
      ]
     },
     "execution_count": 195,
     "metadata": {},
     "output_type": "execute_result"
    }
   ],
   "source": [
    "#Extracting Weight Difference, humidity from previous match\n",
    "case5df = df[['birthday','winOdds','ord','wgHr','track']].copy()\n",
    "case5df['wgDf'] = case5df['wgHr'].str.extract(r'\\(([-+]?\\d*)\\)')\n",
    "case5df['wgHr'] = case5df['wgHr'].str.extract(r'(\\d*)')\n",
    "case5df[['track', 'hd']] = case5df['track'].str.extract(r'(\\w+)\\s\\((\\d*)\\%\\)')\n",
    "df = df.drop(columns = [\"track\",\"wgHr\"])\n",
    "case5df.head()"
   ]
  },
  {
   "cell_type": "code",
   "execution_count": 196,
   "metadata": {},
   "outputs": [
    {
     "data": {
      "text/html": [
       "<div>\n",
       "<style scoped>\n",
       "    .dataframe tbody tr th:only-of-type {\n",
       "        vertical-align: middle;\n",
       "    }\n",
       "\n",
       "    .dataframe tbody tr th {\n",
       "        vertical-align: top;\n",
       "    }\n",
       "\n",
       "    .dataframe thead th {\n",
       "        text-align: right;\n",
       "    }\n",
       "</style>\n",
       "<table border=\"1\" class=\"dataframe\">\n",
       "  <thead>\n",
       "    <tr style=\"text-align: right;\">\n",
       "      <th></th>\n",
       "      <th>age</th>\n",
       "      <th>ageCond</th>\n",
       "      <th>birthday</th>\n",
       "      <th>budam</th>\n",
       "      <th>buga1</th>\n",
       "      <th>buga2</th>\n",
       "      <th>buga3</th>\n",
       "      <th>chaksun1</th>\n",
       "      <th>chaksun2</th>\n",
       "      <th>chaksun3</th>\n",
       "      <th>...</th>\n",
       "      <th>sj_2cOrd</th>\n",
       "      <th>sj_3cOrd</th>\n",
       "      <th>sj_4cOrd</th>\n",
       "      <th>trName</th>\n",
       "      <th>trNo</th>\n",
       "      <th>weather</th>\n",
       "      <th>wgBudam</th>\n",
       "      <th>wgBudamBigo</th>\n",
       "      <th>wgJk</th>\n",
       "      <th>winOdds</th>\n",
       "    </tr>\n",
       "  </thead>\n",
       "  <tbody>\n",
       "    <tr>\n",
       "      <th>144</th>\n",
       "      <td>4</td>\n",
       "      <td>연령오픈</td>\n",
       "      <td>20150308</td>\n",
       "      <td>별정A</td>\n",
       "      <td>0</td>\n",
       "      <td>0</td>\n",
       "      <td>0</td>\n",
       "      <td>13680000</td>\n",
       "      <td>5040000</td>\n",
       "      <td>3120000</td>\n",
       "      <td>...</td>\n",
       "      <td>0</td>\n",
       "      <td>8</td>\n",
       "      <td>8</td>\n",
       "      <td>박윤규</td>\n",
       "      <td>70117</td>\n",
       "      <td>맑음</td>\n",
       "      <td>54.5</td>\n",
       "      <td>-</td>\n",
       "      <td>0</td>\n",
       "      <td>10.7</td>\n",
       "    </tr>\n",
       "    <tr>\n",
       "      <th>145</th>\n",
       "      <td>3</td>\n",
       "      <td>연령오픈</td>\n",
       "      <td>20160326</td>\n",
       "      <td>별정A</td>\n",
       "      <td>0</td>\n",
       "      <td>0</td>\n",
       "      <td>0</td>\n",
       "      <td>13680000</td>\n",
       "      <td>5040000</td>\n",
       "      <td>3120000</td>\n",
       "      <td>...</td>\n",
       "      <td>0</td>\n",
       "      <td>2</td>\n",
       "      <td>2</td>\n",
       "      <td>정호익</td>\n",
       "      <td>70148</td>\n",
       "      <td>맑음</td>\n",
       "      <td>56.0</td>\n",
       "      <td>-</td>\n",
       "      <td>0</td>\n",
       "      <td>2.8</td>\n",
       "    </tr>\n",
       "    <tr>\n",
       "      <th>146</th>\n",
       "      <td>3</td>\n",
       "      <td>연령오픈</td>\n",
       "      <td>20160520</td>\n",
       "      <td>별정A</td>\n",
       "      <td>0</td>\n",
       "      <td>0</td>\n",
       "      <td>0</td>\n",
       "      <td>13680000</td>\n",
       "      <td>5040000</td>\n",
       "      <td>3120000</td>\n",
       "      <td>...</td>\n",
       "      <td>0</td>\n",
       "      <td>6</td>\n",
       "      <td>4</td>\n",
       "      <td>서범석</td>\n",
       "      <td>70096</td>\n",
       "      <td>맑음</td>\n",
       "      <td>56.0</td>\n",
       "      <td>-</td>\n",
       "      <td>0</td>\n",
       "      <td>3.4</td>\n",
       "    </tr>\n",
       "    <tr>\n",
       "      <th>147</th>\n",
       "      <td>4</td>\n",
       "      <td>연령오픈</td>\n",
       "      <td>20150314</td>\n",
       "      <td>별정A</td>\n",
       "      <td>0</td>\n",
       "      <td>0</td>\n",
       "      <td>0</td>\n",
       "      <td>13680000</td>\n",
       "      <td>5040000</td>\n",
       "      <td>3120000</td>\n",
       "      <td>...</td>\n",
       "      <td>0</td>\n",
       "      <td>3</td>\n",
       "      <td>3</td>\n",
       "      <td>김동균</td>\n",
       "      <td>70170</td>\n",
       "      <td>맑음</td>\n",
       "      <td>54.5</td>\n",
       "      <td>-</td>\n",
       "      <td>0</td>\n",
       "      <td>22.0</td>\n",
       "    </tr>\n",
       "    <tr>\n",
       "      <th>148</th>\n",
       "      <td>3</td>\n",
       "      <td>연령오픈</td>\n",
       "      <td>20160412</td>\n",
       "      <td>별정A</td>\n",
       "      <td>0</td>\n",
       "      <td>0</td>\n",
       "      <td>0</td>\n",
       "      <td>13680000</td>\n",
       "      <td>5040000</td>\n",
       "      <td>3120000</td>\n",
       "      <td>...</td>\n",
       "      <td>0</td>\n",
       "      <td>10</td>\n",
       "      <td>9</td>\n",
       "      <td>우창구</td>\n",
       "      <td>70149</td>\n",
       "      <td>맑음</td>\n",
       "      <td>56.0</td>\n",
       "      <td>-</td>\n",
       "      <td>0</td>\n",
       "      <td>94.8</td>\n",
       "    </tr>\n",
       "  </tbody>\n",
       "</table>\n",
       "<p>5 rows × 59 columns</p>\n",
       "</div>"
      ],
      "text/plain": [
       "     age ageCond  birthday budam  buga1  buga2  buga3  chaksun1  chaksun2  \\\n",
       "144    4    연령오픈  20150308   별정A      0      0      0  13680000   5040000   \n",
       "145    3    연령오픈  20160326   별정A      0      0      0  13680000   5040000   \n",
       "146    3    연령오픈  20160520   별정A      0      0      0  13680000   5040000   \n",
       "147    4    연령오픈  20150314   별정A      0      0      0  13680000   5040000   \n",
       "148    3    연령오픈  20160412   별정A      0      0      0  13680000   5040000   \n",
       "\n",
       "     chaksun3  ...  sj_2cOrd  sj_3cOrd  sj_4cOrd trName   trNo  weather  \\\n",
       "144   3120000  ...         0         8         8    박윤규  70117       맑음   \n",
       "145   3120000  ...         0         2         2    정호익  70148       맑음   \n",
       "146   3120000  ...         0         6         4    서범석  70096       맑음   \n",
       "147   3120000  ...         0         3         3    김동균  70170       맑음   \n",
       "148   3120000  ...         0        10         9    우창구  70149       맑음   \n",
       "\n",
       "    wgBudam  wgBudamBigo wgJk winOdds  \n",
       "144    54.5            -    0    10.7  \n",
       "145    56.0            -    0     2.8  \n",
       "146    56.0            -    0     3.4  \n",
       "147    54.5            -    0    22.0  \n",
       "148    56.0            -    0    94.8  \n",
       "\n",
       "[5 rows x 59 columns]"
      ]
     },
     "execution_count": 196,
     "metadata": {},
     "output_type": "execute_result"
    }
   ],
   "source": [
    "df.head()"
   ]
  },
  {
   "cell_type": "code",
   "execution_count": 197,
   "metadata": {},
   "outputs": [
    {
     "data": {
      "text/plain": [
       "array(['맑음', '흐림', '비', nan, '강풍', '안개', '눈'], dtype=object)"
      ]
     },
     "execution_count": 197,
     "metadata": {},
     "output_type": "execute_result"
    }
   ],
   "source": [
    "\n",
    "df[df['wgBudamBigo']=='*']['budam'].unique()\n",
    "df['weather'].unique()"
   ]
  },
  {
   "cell_type": "code",
   "execution_count": 204,
   "metadata": {},
   "outputs": [],
   "source": [
    "df[df['weather'].isnull()]['rcDate'].shape\n",
    "df = df.fillna(\"흐림\")\n",
    "#2019-04-13 = 흐림\n",
    "#2020-07-11 = 흐림\n",
    "\n"
   ]
  },
  {
   "cell_type": "code",
   "execution_count": 203,
   "metadata": {},
   "outputs": [
    {
     "data": {
      "text/plain": [
       "0"
      ]
     },
     "execution_count": 203,
     "metadata": {},
     "output_type": "execute_result"
    }
   ],
   "source": [
    "df = df.fillna(\"흐림\")\n",
    "df.isna().sum().sum()\n"
   ]
  },
  {
   "cell_type": "code",
   "execution_count": null,
   "metadata": {},
   "outputs": [],
   "source": [
    "df.to_csv(\"\")"
   ]
  },
  {
   "cell_type": "markdown",
   "metadata": {},
   "source": [
    "df[df[''].isnull()]"
   ]
  },
  {
   "cell_type": "code",
   "execution_count": null,
   "metadata": {},
   "outputs": [],
   "source": []
  }
 ],
 "metadata": {
  "kernelspec": {
   "display_name": "Python 3",
   "language": "python",
   "name": "python3"
  },
  "language_info": {
   "codemirror_mode": {
    "name": "ipython",
    "version": 3
   },
   "file_extension": ".py",
   "mimetype": "text/x-python",
   "name": "python",
   "nbconvert_exporter": "python",
   "pygments_lexer": "ipython3",
   "version": "3.11.7"
  }
 },
 "nbformat": 4,
 "nbformat_minor": 2
}
